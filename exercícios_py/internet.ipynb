{
 "cells": [
  {
   "cell_type": "markdown",
   "metadata": {},
   "source": [
    "Faça um programa que peça o tamanho de um arquivo para download (em MB) e a velocidade de um link de Internet (em Mbps), calcule e informe o tempo aproximado de download do arquivo usando este link (em minutos)"
   ]
  },
  {
   "cell_type": "code",
   "execution_count": 5,
   "metadata": {},
   "outputs": [
    {
     "name": "stdout",
     "output_type": "stream",
     "text": [
      "Tamanho do arquivo (MB): 20\n",
      "Velocidade de Internet (MBps): 0.5\n",
      "Tempo aproximado de download: 0.6666666666666666 Minutos \n"
     ]
    }
   ],
   "source": [
    "\n",
    "tamanho = float(input('Tamanho do arquivo (MB): '))\n",
    "velocidade = float(input('Velocidade de Internet (MBps): '))\n",
    "tempo = (tamanho/velocidade)/60\n",
    "\n",
    "print('Tempo aproximado de download: {} Minutos '.format(tempo))"
   ]
  },
  {
   "cell_type": "code",
   "execution_count": null,
   "metadata": {},
   "outputs": [],
   "source": []
  }
 ],
 "metadata": {
  "kernelspec": {
   "display_name": "Python 3",
   "language": "python",
   "name": "python3"
  },
  "language_info": {
   "codemirror_mode": {
    "name": "ipython",
    "version": 3
   },
   "file_extension": ".py",
   "mimetype": "text/x-python",
   "name": "python",
   "nbconvert_exporter": "python",
   "pygments_lexer": "ipython3",
   "version": "3.7.0"
  }
 },
 "nbformat": 4,
 "nbformat_minor": 2
}
