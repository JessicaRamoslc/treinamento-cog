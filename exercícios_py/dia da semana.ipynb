{
 "cells": [
  {
   "cell_type": "markdown",
   "metadata": {},
   "source": [
    "Faça um Programa que leia um número e exiba o dia correspondente da semana. (1-Domingo, 2- Segunda, etc.), se digitar outro valor deve aparecer valor inválido."
   ]
  },
  {
   "cell_type": "code",
   "execution_count": 21,
   "metadata": {},
   "outputs": [
    {
     "name": "stdout",
     "output_type": "stream",
     "text": [
      "Digite um número:3\n",
      "valor invalido\n"
     ]
    }
   ],
   "source": [
    "dia = (input(\"Digite um número:\"))\n",
    "semana = {1: 'domingo', 2: 'segunda', 3: 'terça', 4: 'quarta', 5: 'quinta', 6:'sexta', 7:'sabado'}\n",
    "if dia == 1:\n",
    "    print(dia[0])\n",
    "elif dia == 2:\n",
    "    print(dia[1])\n",
    "elif dia == 3:\n",
    "    print(dia[2])\n",
    "elif dia == 4:\n",
    "    print(dia[3])\n",
    "elif dia == 5:\n",
    "    print(dia[4])\n",
    "elif dia == 6:\n",
    "    print(dia[5])\n",
    "elif dia == 7:\n",
    "    print(dia[6])\n",
    "else:\n",
    "    print('valor invalido')"
   ]
  },
  {
   "cell_type": "code",
   "execution_count": null,
   "metadata": {},
   "outputs": [],
   "source": []
  }
 ],
 "metadata": {
  "kernelspec": {
   "display_name": "Python 3",
   "language": "python",
   "name": "python3"
  },
  "language_info": {
   "codemirror_mode": {
    "name": "ipython",
    "version": 3
   },
   "file_extension": ".py",
   "mimetype": "text/x-python",
   "name": "python",
   "nbconvert_exporter": "python",
   "pygments_lexer": "ipython3",
   "version": "3.7.0"
  }
 },
 "nbformat": 4,
 "nbformat_minor": 2
}
