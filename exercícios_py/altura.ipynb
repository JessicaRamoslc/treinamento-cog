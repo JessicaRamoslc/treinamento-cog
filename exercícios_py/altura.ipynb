{
 "cells": [
  {
   "cell_type": "markdown",
   "metadata": {},
   "source": [
    "Tendo como dado de entrada a altura (h) de uma pessoa, construa um algoritmo que calcule seu peso ideal, utilizando as seguintes fórmulas:\n",
    "\n",
    "\n",
    "\n",
    "a. Para homens: (72.7*h) - 58\n",
    "\n",
    "\n",
    "b. Para mulheres: (62.1*h) - 44.7"
   ]
  },
  {
   "cell_type": "code",
   "execution_count": 2,
   "metadata": {},
   "outputs": [
    {
     "name": "stdout",
     "output_type": "stream",
     "text": [
      "Informe seu sexo [homem ou mulher]: homem\n",
      "Digite a sua altura: 1.78\n",
      "Seu peso ideal é 71.406\n"
     ]
    }
   ],
   "source": [
    "sexo = input('Informe seu sexo [homem ou mulher]: ')\n",
    "\n",
    "if sexo == 'homem':\n",
    "    altura = float(input('Digite a sua altura: '))\n",
    "    pesoIdeal = (72.7 * altura) - 58\n",
    "\n",
    "elif sexo == 'mulher':\n",
    "    altura = float(input('Digite a sua altura: '))\n",
    "    pesoIdeal = (62.1 * altura) - 44.7\n",
    "\n",
    "\n",
    "print('Seu peso ideal é %s'%pesoIdeal)\n",
    "    \n"
   ]
  },
  {
   "cell_type": "code",
   "execution_count": null,
   "metadata": {},
   "outputs": [],
   "source": []
  },
  {
   "cell_type": "code",
   "execution_count": null,
   "metadata": {},
   "outputs": [],
   "source": []
  }
 ],
 "metadata": {
  "kernelspec": {
   "display_name": "Python 3",
   "language": "python",
   "name": "python3"
  },
  "language_info": {
   "codemirror_mode": {
    "name": "ipython",
    "version": 3
   },
   "file_extension": ".py",
   "mimetype": "text/x-python",
   "name": "python",
   "nbconvert_exporter": "python",
   "pygments_lexer": "ipython3",
   "version": "3.7.0"
  }
 },
 "nbformat": 4,
 "nbformat_minor": 2
}
