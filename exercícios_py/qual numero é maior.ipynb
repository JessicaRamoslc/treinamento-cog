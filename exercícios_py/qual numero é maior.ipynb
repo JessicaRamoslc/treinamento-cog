{
 "cells": [
  {
   "cell_type": "markdown",
   "metadata": {},
   "source": [
    "Faça um Programa que leia três números e mostre o maior deles."
   ]
  },
  {
   "cell_type": "code",
   "execution_count": 2,
   "metadata": {},
   "outputs": [
    {
     "name": "stdout",
     "output_type": "stream",
     "text": [
      "Digite o primeiro numero: 9\n",
      "Digite o segundo numero: 9\n",
      "Digite o terceiro numero: 3\n",
      "Existem 2 numeros iguais, digite novamente\n"
     ]
    }
   ],
   "source": [
    "numero1 = int(input(\"Digite o primeiro numero: \"))\n",
    "numero2 = int(input(\"Digite o segundo numero: \"))\n",
    "numero3 = int(input(\"Digite o terceiro numero: \"))\n",
    "if numero1 > numero2 and numero1 > numero3:\n",
    "    print(\"O maior número é: {}\".format(numero1))\n",
    "elif numero2>numero1 and numero2 > numero3:\n",
    "    print(\"O maior número é: {}\".format(numero2))\n",
    "elif numero3>numero1 and numero3>numero2:\n",
    "    print(\"O maior número é: {}\".format(numero3))\n",
    "else:\n",
    "    print(\"Existem 2 numeros iguais, digite novamente\")\n",
    "\n",
    "\n",
    "    "
   ]
  },
  {
   "cell_type": "code",
   "execution_count": null,
   "metadata": {},
   "outputs": [],
   "source": []
  }
 ],
 "metadata": {
  "kernelspec": {
   "display_name": "Python 3",
   "language": "python",
   "name": "python3"
  },
  "language_info": {
   "codemirror_mode": {
    "name": "ipython",
    "version": 3
   },
   "file_extension": ".py",
   "mimetype": "text/x-python",
   "name": "python",
   "nbconvert_exporter": "python",
   "pygments_lexer": "ipython3",
   "version": "3.7.0"
  }
 },
 "nbformat": 4,
 "nbformat_minor": 2
}
