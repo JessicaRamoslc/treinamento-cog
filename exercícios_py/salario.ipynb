{
 "cells": [
  {
   "cell_type": "markdown",
   "metadata": {},
   "source": [
    "Faça um Programa que pergunte quanto você ganha por hora e o número de horas trabalhadas no mês. \n",
    "\n",
    "\n",
    "Calcule e mostre o total do seu salário no referido mês, sabendo-se que são descontados 11% para o Imposto de Renda, 8% para o INSS e 5% para o sindicato, faça um programa que nos dê:\n",
    "\n",
    ". salário bruto.\n",
    "\n",
    "\n",
    "a. quanto pagou ao INSS.\n",
    "\n",
    "\n",
    "b. quanto pagou ao sindicato.\n",
    "\n",
    "\n",
    "c. o salário líquido.\n",
    "\n",
    "\n",
    "d. calcule os descontos e o salário líquido, conforme a tabela abaixo:\n",
    "    \n",
    "    \n",
    "    e. + Salário Bruto : R$ \n",
    "    \n",
    "    \n",
    "    f. - IR (11%) : R$ \n",
    "    \n",
    "    g. - INSS (8%) : R$ \n",
    "    \n",
    "    h. - Sindicato ( 5%) : R$ = Salário Liquido : R$\n",
    "    \n",
    "    \n",
    "Obs.: Salário Bruto - Descontos = Salário Líquido."
   ]
  },
  {
   "cell_type": "code",
   "execution_count": 5,
   "metadata": {},
   "outputs": [
    {
     "name": "stdout",
     "output_type": "stream",
     "text": [
      "Digite o valor cobrado por hora: 15.625\n",
      "Digite a quantidades de horas trabalhadas por mês: 160\n",
      "R$ 2500.0\n",
      "desconto Inss R$ 200.0\n",
      "desconto Sindicato R$ 125.0\n",
      "Salário líquido R$ 2175.0\n"
     ]
    }
   ],
   "source": [
    "valor = float(input('Digite o valor cobrado por hora: '))\n",
    "horas = float(input('Digite a quantidades de horas trabalhadas por mês: '))\n",
    "\n",
    "salario_bruto = valor * horas\n",
    "print('R$ %s'%salario_bruto)\n",
    "\n",
    "inss = salario_bruto * 0.08\n",
    "print('desconto Inss R$ %s' %inss)\n",
    "\n",
    "sindicato = salario_bruto * 0.05\n",
    "print('desconto Sindicato R$ %s' %sindicato)\n",
    "\n",
    "descontos = inss + sindicato\n",
    "salario_liquido = salario_bruto - descontos\n",
    "\n",
    "print('Salário líquido R$ %s' %salario_liquido)"
   ]
  },
  {
   "cell_type": "markdown",
   "metadata": {},
   "source": [
    "## "
   ]
  },
  {
   "cell_type": "code",
   "execution_count": null,
   "metadata": {},
   "outputs": [],
   "source": []
  }
 ],
 "metadata": {
  "kernelspec": {
   "display_name": "Python 3",
   "language": "python",
   "name": "python3"
  },
  "language_info": {
   "codemirror_mode": {
    "name": "ipython",
    "version": 3
   },
   "file_extension": ".py",
   "mimetype": "text/x-python",
   "name": "python",
   "nbconvert_exporter": "python",
   "pygments_lexer": "ipython3",
   "version": "3.7.0"
  }
 },
 "nbformat": 4,
 "nbformat_minor": 2
}
