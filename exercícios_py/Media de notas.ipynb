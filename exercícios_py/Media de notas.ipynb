{
 "cells": [
  {
   "cell_type": "markdown",
   "metadata": {},
   "source": [
    "Faça um programa para a leitura de duas notas parciais de um aluno. O programa deve calcular a média alcançada por aluno e apresentar:\n",
    "\n",
    "\n",
    "o A mensagem \"Aprovado\", se a média alcançada for maior ou igual a sete;\n",
    "\n",
    "\n",
    "o A mensagem \"Reprovado\", se a média for menor do que sete;\n",
    "\n",
    "\n",
    "o A mensagem \"Aprovado com Distinção\", se a média for igual a dez."
   ]
  },
  {
   "cell_type": "code",
   "execution_count": 12,
   "metadata": {},
   "outputs": [
    {
     "name": "stdout",
     "output_type": "stream",
     "text": [
      "Digite sua primeira nota: 10\n",
      "Digite sua segunda nota: 8\n",
      "Aprovado!\n"
     ]
    }
   ],
   "source": [
    "nota1 = int(input(\"Digite sua primeira nota: \"))\n",
    "nota2 = int(input(\"Digite sua segunda nota: \"))\n",
    "media = (nota1+nota2)/2\n",
    "if media ==10:\n",
    "    print(\"Aprovado\")\n",
    "    print(\"Aprovado com louvor!\")\n",
    "elif media >=7:\n",
    "    print(\"Aprovado!\")\n",
    "else:\n",
    "    print(\"Voce foi reprovado!\")"
   ]
  },
  {
   "cell_type": "code",
   "execution_count": null,
   "metadata": {},
   "outputs": [],
   "source": []
  }
 ],
 "metadata": {
  "kernelspec": {
   "display_name": "Python 3",
   "language": "python",
   "name": "python3"
  },
  "language_info": {
   "codemirror_mode": {
    "name": "ipython",
    "version": 3
   },
   "file_extension": ".py",
   "mimetype": "text/x-python",
   "name": "python",
   "nbconvert_exporter": "python",
   "pygments_lexer": "ipython3",
   "version": "3.7.0"
  }
 },
 "nbformat": 4,
 "nbformat_minor": 2
}
