{
 "cells": [
  {
   "cell_type": "raw",
   "metadata": {},
   "source": [
    "As Organizações Tabajara resolveram dar um aumento de salário aos seus colaboradores e lhe contraram para desenvolver o programa que calculará os reajustes.\n",
    "\n",
    "\n",
    "o Faça um programa que recebe o salário de um colaborador e o reajuste segundo o seguinte critério, baseado no salário atual:\n",
    "    \n",
    "    \n",
    "o salários até R$ 280,00 (incluindo) : aumento de 20%\n",
    "    \n",
    "    \n",
    "    \n",
    "o salários entre R$ 280,00 e R$ 700,00 : aumento de 15%\n",
    "    \n",
    "    \n",
    "    \n",
    "o salários entre R$ 700,00 e R$ 1500,00 : aumento de 10%\n",
    "    \n",
    "    \n",
    "    \n",
    "o salários de R$ 1500,00 em diante : aumento de 5% Após o aumento ser realizado, informe na tela:\n",
    "        \n",
    "        \n",
    "        \n",
    "o o salário antes do reajuste;\n",
    "\n",
    "\n",
    "\n",
    "o o percentual de aumento aplicado;\n",
    "\n",
    "\n",
    "\n",
    "o o valor do aumento;\n",
    "\n",
    "\n",
    "\n",
    "o o novo salário, após o aumento."
   ]
  },
  {
   "cell_type": "code",
   "execution_count": 10,
   "metadata": {},
   "outputs": [
    {
     "name": "stdout",
     "output_type": "stream",
     "text": [
      "Digite seu salario: 2500\n",
      "Você recebey um aumento!\n",
      "Salario antigo: 2500.0\n",
      "Seu percentual de aumento foi de 5%\n",
      "Novo salário: 2625.0\n"
     ]
    }
   ],
   "source": [
    "salario = float(input(\"Digite seu salario: \"))\n",
    "salario1 = salario*20/100\n",
    "salario1total = salario + salario1\n",
    "perc1 = '20%'\n",
    "salario2 = salario*10/100\n",
    "salario2total = salario + salario2\n",
    "perc2 = '10%'\n",
    "salario3 = salario*5/100\n",
    "salario3total = salario + salario3\n",
    "perc3 = '5%'\n",
    "if salario <= 280.00:\n",
    "    print(\"Você recebeu um aumento!\")\n",
    "    print(\"Salário antigo: {}\".format(salario))\n",
    "    print(\"Seu percentual de aumento foi de {}\".format(perc1))\n",
    "    print(\"Novo salário: {}\".format(salario1total))\n",
    "elif salario > 700 and salario < 1500:\n",
    "    print(\"Você recebeu um aumento!\")\n",
    "    print(\"Salario antigo: {}\".format(salario))\n",
    "    print(\"Seu percentual de aumento foi de {}\".format(perc2))\n",
    "    print(\"Novo salário: {}\".format(salario2total))\n",
    "elif salario > 1500:\n",
    "    print(\"Você recebey um aumento!\")\n",
    "    print(\"Salario antigo: {}\".format(salario))\n",
    "    print(\"Seu percentual de aumento foi de {}\".format(perc3))\n",
    "    print(\"Novo salário: {}\".format(salario3total))\n",
    "else:\n",
    "    print(\"Você não digitou um número válido, repita a operação!\")\n",
    "    "
   ]
  },
  {
   "cell_type": "code",
   "execution_count": null,
   "metadata": {},
   "outputs": [],
   "source": []
  }
 ],
 "metadata": {
  "kernelspec": {
   "display_name": "Python 3",
   "language": "python",
   "name": "python3"
  },
  "language_info": {
   "codemirror_mode": {
    "name": "ipython",
    "version": 3
   },
   "file_extension": ".py",
   "mimetype": "text/x-python",
   "name": "python",
   "nbconvert_exporter": "python",
   "pygments_lexer": "ipython3",
   "version": "3.7.0"
  }
 },
 "nbformat": 4,
 "nbformat_minor": 2
}
