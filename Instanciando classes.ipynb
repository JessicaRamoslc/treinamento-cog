{
 "cells": [
  {
   "cell_type": "code",
   "execution_count": null,
   "metadata": {},
   "outputs": [],
   "source": [
    "class exemplo:\n",
    "    \n",
    "    def __init__ (self):\n",
    "        self.name = exemplo\n",
    "        return ('primeira classe')\n",
    "    print(exemplo)"
   ]
  },
  {
   "cell_type": "markdown",
   "metadata": {},
   "source": [
    "Instanciando classe: "
   ]
  },
  {
   "cell_type": "code",
   "execution_count": null,
   "metadata": {},
   "outputs": [],
   "source": [
    "class Classe:\n",
    "    def printa_mensagem(self, x):\n",
    "        print('Voce escreveu: {}'.format(x))"
   ]
  },
  {
   "cell_type": "code",
   "execution_count": null,
   "metadata": {},
   "outputs": [],
   "source": [
    "classe = Classe()\n",
    "classe.printa_mensagem('oi')"
   ]
  },
  {
   "cell_type": "markdown",
   "metadata": {},
   "source": [
    "# Calculadora"
   ]
  },
  {
   "cell_type": "code",
   "execution_count": null,
   "metadata": {},
   "outputs": [],
   "source": [
    "class Calculadora:\n",
    "    def __init__(self, a, b):\n",
    "        self.a = a\n",
    "        self.b = b\n",
    "        \n",
    "    def soma(self): \n",
    "        so = self.a + self.b\n",
    "        print(so)\n",
    "        \n",
    "    def subtrai(self): \n",
    "        su = self.a - self.b\n",
    "        print(su)\n",
    "        \n",
    "    def divisao(self): \n",
    "        d = self.a / self.b\n",
    "        print(d)\n",
    "        \n",
    "    def multip(self): \n",
    "        m = self.a * self.b\n",
    "        print(m)\n",
    "            \n",
    "numero1 = int(input('Insira o primeiro valor: '))\n",
    "operation = (input('Escolha a operação'))\n",
    "numero2 = int(input('Insira o segundo valor: '))\n",
    "\n",
    "if operation == '+':\n",
    "    \n",
    "    print('{} + {} = '.format(numero1, numero2))\n",
    "    print(numero1 + numero2)\n",
    "\n",
    "elif operation == '-':\n",
    "    print('{} - {} = '.format(numero1, numero2))\n",
    "    print(numero1 - numero2)\n",
    "\n",
    "elif operation == '*':\n",
    "    print('{} * {} = '.format(numero1, numero2))\n",
    "    print(numero1 * numero2)\n",
    "\n",
    "elif operation == '/':\n",
    "    print('{} / {} = '.format(numero1, numero2))\n",
    "    print(numero1 / numero2)\n",
    "\n",
    "else:\n",
    "    print('nulo')"
   ]
  },
  {
   "cell_type": "markdown",
   "metadata": {},
   "source": [
    "# Lendo texto e diferenciando texto e números"
   ]
  },
  {
   "cell_type": "code",
   "execution_count": null,
   "metadata": {},
   "outputs": [],
   "source": [
    "import re   "
   ]
  },
  {
   "cell_type": "code",
   "execution_count": null,
   "metadata": {},
   "outputs": [],
   "source": [
    "class Mapeamento:\n",
    "    \n",
    "    def __init__(self, letras, numeros):\n",
    "    self.letras = strings\n",
    "    self.numeros = inteiros\n",
    "    \n",
    "    def Strings: \n",
    "        f = open('texto.txt', 'r')\n",
    "        arquivo\n",
    "        print(arquivo) "
   ]
  },
  {
   "cell_type": "markdown",
   "metadata": {},
   "source": [
    "# Conversão "
   ]
  },
  {
   "cell_type": "code",
   "execution_count": 7,
   "metadata": {},
   "outputs": [],
   "source": [
    "class TempConversion:\n",
    "    def far(self,temp):\n",
    "        return temp*1.8 + 32\n",
    "    def celsius(self,temp):\n",
    "        return(temp - 32)/1.8"
   ]
  },
  {
   "cell_type": "code",
   "execution_count": 9,
   "metadata": {},
   "outputs": [],
   "source": [
    "temp_conversion = TempConversion()"
   ]
  },
  {
   "cell_type": "code",
   "execution_count": null,
   "metadata": {},
   "outputs": [],
   "source": []
  },
  {
   "cell_type": "code",
   "execution_count": null,
   "metadata": {},
   "outputs": [],
   "source": []
  }
 ],
 "metadata": {
  "kernelspec": {
   "display_name": "Python 3",
   "language": "python",
   "name": "python3"
  },
  "language_info": {
   "codemirror_mode": {
    "name": "ipython",
    "version": 3
   },
   "file_extension": ".py",
   "mimetype": "text/x-python",
   "name": "python",
   "nbconvert_exporter": "python",
   "pygments_lexer": "ipython3",
   "version": "3.7.0"
  }
 },
 "nbformat": 4,
 "nbformat_minor": 2
}
