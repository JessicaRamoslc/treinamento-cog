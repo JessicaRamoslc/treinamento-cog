{
 "cells": [
  {
   "cell_type": "code",
   "execution_count": null,
   "metadata": {},
   "outputs": [
    {
     "name": "stdout",
     "output_type": "stream",
     "text": [
      " * Serving Flask app \"__main__\" (lazy loading)\n",
      " * Environment: production\n",
      "   WARNING: Do not use the development server in a production environment.\n",
      "   Use a production WSGI server instead.\n",
      " * Debug mode: off\n"
     ]
    },
    {
     "name": "stderr",
     "output_type": "stream",
     "text": [
      " * Running on http://127.0.0.1:5000/ (Press CTRL+C to quit)\n",
      "127.0.0.1 - - [09/Jan/2019 16:21:02] \"GET / HTTP/1.1\" 200 -\n",
      "[2019-01-09 16:21:06,502] ERROR in app: Exception on /new [GET]\n",
      "Traceback (most recent call last):\n",
      "  File \"C:\\ProgramData\\Anaconda3\\lib\\site-packages\\flask\\app.py\", line 2292, in wsgi_app\n",
      "    response = self.full_dispatch_request()\n",
      "  File \"C:\\ProgramData\\Anaconda3\\lib\\site-packages\\flask\\app.py\", line 1816, in full_dispatch_request\n",
      "    return self.finalize_request(rv)\n",
      "  File \"C:\\ProgramData\\Anaconda3\\lib\\site-packages\\flask\\app.py\", line 1831, in finalize_request\n",
      "    response = self.make_response(rv)\n",
      "  File \"C:\\ProgramData\\Anaconda3\\lib\\site-packages\\flask\\app.py\", line 1957, in make_response\n",
      "    'The view function did not return a valid response. The'\n",
      "TypeError: The view function did not return a valid response. The function either returned None or ended without a return statement.\n",
      "127.0.0.1 - - [09/Jan/2019 16:21:06] \"GET /new HTTP/1.1\" 500 -\n"
     ]
    }
   ],
   "source": [
    "from flask import Flask, render_template, request, redirect, session, flash\n",
    "\n",
    "class Anime:\n",
    "    def __init__(self, nome, genero, ano):\n",
    "        self.nome = nome\n",
    "        self.genero = genero\n",
    "        self.ano = ano\n",
    "\n",
    "app = Flask(__name__)\n",
    "app.secret_key = 'Kamehameha'\n",
    "\n",
    "anime1 = Anime('One Piece', 'Aventura', '1999')\n",
    "anime2 = Anime('Kimi ni Todoke', 'Romance', '2006')\n",
    "anime3 = Anime('Jigoku Shoujo', 'Suspense', '2004')\n",
    "\n",
    "lista_animes = [anime1, anime2, anime3]\n",
    "\n",
    "@app.route('/')\n",
    "\n",
    "def index():\n",
    "    \n",
    "    return render_template('index.html', title = 'My list', lista=lista_animes)\n",
    "\n",
    "@app.route('/new')\n",
    "\n",
    "def new():\n",
    "    if 'usuario_logado' not in session or session['usuario_logado'] == None:\n",
    "        return redirect('/login')        \n",
    "        return render_template('new.html', title = 'Novo Anime')\n",
    "        \n",
    "\n",
    "@app.route('/create', methods = ['POST'])\n",
    "def create():\n",
    "    nome = request.form['nome']\n",
    "    genero = request.form['genero']\n",
    "    ano = request.form['ano']\n",
    "    anime = Anime(nome, genero, ano)\n",
    "    lista_animes.append(anime)\n",
    "    return redirect('/')\n",
    "\n",
    "@app.route('/login')\n",
    "def login():\n",
    "    return render_template('login.html', title=\"Login\")\n",
    "\n",
    "@app.route('/auth',  methods = ['POST'])\n",
    "def auth():\n",
    "    if 'pudim' in request.form['senha']:        \n",
    "        session['usuario_logado'] = request.form['usuario']\n",
    "        flash('O {} está logado.'.format(request.form['usuario']))\n",
    "        return redirect('/')\n",
    "    else:\n",
    "        flash('Falha no login, tente novamente')\n",
    "        return redirect('/login')\n",
    "    \n",
    "@app.route('/logout')\n",
    "def logout():\n",
    "    session['usuario_logado'] = None\n",
    "    return redirect('/')\n",
    "\n",
    "app.run()"
   ]
  },
  {
   "cell_type": "code",
   "execution_count": null,
   "metadata": {},
   "outputs": [],
   "source": []
  },
  {
   "cell_type": "code",
   "execution_count": null,
   "metadata": {},
   "outputs": [],
   "source": []
  }
 ],
 "metadata": {
  "kernelspec": {
   "display_name": "Python 3",
   "language": "python",
   "name": "python3"
  },
  "language_info": {
   "codemirror_mode": {
    "name": "ipython",
    "version": 3
   },
   "file_extension": ".py",
   "mimetype": "text/x-python",
   "name": "python",
   "nbconvert_exporter": "python",
   "pygments_lexer": "ipython3",
   "version": "3.7.0"
  }
 },
 "nbformat": 4,
 "nbformat_minor": 2
}
